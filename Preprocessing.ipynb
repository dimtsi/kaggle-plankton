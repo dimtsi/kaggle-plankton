{
 "cells": [
  {
   "cell_type": "markdown",
   "metadata": {},
   "source": [
    "# Loading images"
   ]
  },
  {
   "cell_type": "code",
   "execution_count": 2,
   "metadata": {},
   "outputs": [],
   "source": [
    "from PIL import Image\n",
    "import numpy as np\n",
    "import pandas as pd\n",
    "import matplotlib.pyplot as plt\n",
    "import glob\n",
    "\n",
    "import torch\n",
    "import torch.nn as nn\n",
    "import torch.optim as optim\n",
    "import torch.nn.functional as F\n",
    "from torch.autograd import Variable\n",
    "\n",
    "from torch.utils.data import Dataset, DataLoader,TensorDataset\n",
    "from torchvision import transforms\n",
    "\n",
    "from torchsummary import summary\n",
    "%matplotlib inline"
   ]
  },
  {
   "cell_type": "code",
   "execution_count": 3,
   "metadata": {},
   "outputs": [
    {
     "name": "stdout",
     "output_type": "stream",
     "text": [
      "CPU times: user 4.12 s, sys: 481 ms, total: 4.6 s\n",
      "Wall time: 7.73 s\n"
     ]
    }
   ],
   "source": [
    "%%time\n",
    "#labels with the same order\n",
    "train_images = []\n",
    "train_labels = []\n",
    "\n",
    "test_images = []\n",
    "test_dict = {}\n",
    "train_filenames = []\n",
    "\n",
    "labels_df = pd.read_csv('train_onelabel.csv')\n",
    "labels_dict = labels_df.set_index('image')['class'].to_dict()\n",
    "\n",
    "for filename in labels_df['image'].values: ##to keep mapping with classes\n",
    "    train_images.append(Image.open('train_images/'+filename).copy())\n",
    "    train_labels.append(labels_dict[filename])\n",
    "    train_filenames.append(filename)\n",
    "for filename in glob.iglob('test_images' +'/*'):\n",
    "    image = Image.open(filename).copy()\n",
    "    test_images.append(image)\n",
    "    test_dict[filename.replace('test_images/', '')] = image"
   ]
  },
  {
   "cell_type": "code",
   "execution_count": 4,
   "metadata": {},
   "outputs": [
    {
     "name": "stdout",
     "output_type": "stream",
     "text": [
      "Average width 73.32110394976037 , Average height: 66.46897207073211\n",
      "CPU times: user 61.9 ms, sys: 0 ns, total: 61.9 ms\n",
      "Wall time: 70.2 ms\n"
     ]
    },
    {
     "data": {
      "image/png": "[encoded data removed]",
      "text/plain": [
       "<Figure size 864x360 with 2 Axes>"
      ]
     },
     "metadata": {
      "needs_background": "light"
     },
     "output_type": "display_data"
    }
   ],
   "source": [
    "%%time\n",
    "widths, heights = [], [] \n",
    "sumx, sumy = 0, 0\n",
    "for i in train_images:\n",
    "    sumx += i.size[0]\n",
    "    widths.append(i.size[0])\n",
    "    sumy += i.size[1]\n",
    "    heights.append(i.size[1])\n",
    "\n",
    "\n",
    "fig, (ax1, ax2) = plt.subplots(1, 2)\n",
    "ax1.hist(widths)\n",
    "ax2.hist(heights, color = 'orange')\n",
    "fig.set_size_inches(12, 5)\n",
    "\n",
    "avg_width = np.mean(widths)\n",
    "avg_height = np.mean(heights)\n",
    "print('Average width {} , Average height: {}'.format(avg_width, avg_height))"
   ]
  },
  {
   "cell_type": "code",
   "execution_count": 5,
   "metadata": {},
   "outputs": [],
   "source": [
    "class ListsDataset(Dataset):\n",
    "    def __init__(self, list_of_images, list_of_labels, transform=None):\n",
    "        \"\"\"\n",
    "        Args:\n",
    "            csv_path (string): path to csv file\n",
    "            height (int): image height\n",
    "            width (int): image width\n",
    "            transform: pytorch transforms for transforms and tensor conversion\n",
    "        \"\"\"\n",
    "#         super().__init__()\n",
    "        self.data = list_of_images\n",
    "        self.labels = np.asarray(list_of_labels).reshape(-1,1)\n",
    "        self.transform = transform\n",
    "\n",
    "    def __getitem__(self, index):\n",
    "        single_image = self.data[index]\n",
    "        single_image_label = self.labels[index]\n",
    "        # Transform image to tensor\n",
    "        if self.transform is not None:\n",
    "            img_as_tensor = self.transform(single_image)\n",
    "        # Return image and the label\n",
    "        return (img_as_tensor, single_image_label)\n",
    "\n",
    "    def __len__(self):\n",
    "        return len(self.data)"
   ]
  },
  {
   "cell_type": "code",
   "execution_count": 19,
   "metadata": {},
   "outputs": [],
   "source": [
    "#Transforms and Dataset Creation\n",
    "test_transforms = transforms. Compose([transforms.ToTensor()])\n",
    "train_transforms = transforms. Compose([\n",
    "    transforms.CenterCrop(28),\n",
    "    transforms.ToTensor()\n",
    "])\n",
    "\n",
    "train_dataset = ListsDataset(train_images, train_labels, transform = train_transforms)\n",
    "test_dataset = ListsDataset(test_images, list_of_labels = None, transform = test_transforms)"
   ]
  },
  {
   "cell_type": "code",
   "execution_count": null,
   "metadata": {},
   "outputs": [],
   "source": []
  },
  {
   "cell_type": "code",
   "execution_count": 24,
   "metadata": {},
   "outputs": [],
   "source": [
    "train_loader = torch.utils.data.DataLoader(train_dataset, batch_size = 32, shuffle = True)\n",
    "test_loader = torch.utils.data.DataLoader(test_images, batch_size = 32, shuffle = False)"
   ]
  },
  {
   "cell_type": "code",
   "execution_count": 8,
   "metadata": {},
   "outputs": [],
   "source": [
    "class Flatten(nn.Module):\n",
    "    def forward(self, input):\n",
    "        return input.view(input.size(0), -1)\n",
    "\n",
    "class CNN(nn.Module):\n",
    "    def __init__(self):\n",
    "        super(CNN, self).__init__()\n",
    "        self.layer1 = nn.Sequential(\n",
    "            nn.Conv2d(1, 50, kernel_size=3, padding=1),\n",
    "            nn.ReLU(),\n",
    "            nn.MaxPool2d(2))\n",
    "        self.layer2 = nn.Sequential(\n",
    "            nn.Conv2d(50, 20, kernel_size=3, padding=1),\n",
    "            nn.ReLU(),\n",
    "            nn.MaxPool2d(2))\n",
    "        self.layer3 = nn.Sequential(\n",
    "            Flatten(),\n",
    "            nn.Linear(20*7*7, 250),\n",
    "            nn.ReLU())\n",
    "        self.fc = nn.Linear(250, 121)\n",
    "\n",
    "    def forward(self, x):\n",
    "        out = self.layer1(x)\n",
    "        out = self.layer2(out)\n",
    "        out = self.layer3(out)\n",
    "        out = self.fc(out)\n",
    "        return out"
   ]
  },
  {
   "cell_type": "code",
   "execution_count": 9,
   "metadata": {},
   "outputs": [],
   "source": [
    "def train(model, num_epochs):\n",
    "    criterion = nn.CrossEntropyLoss();\n",
    "    optimizer = torch.optim.Adam(model.parameters(), lr=learning_rate);\n",
    "    #Training\n",
    "    history = {'batch': [], 'loss': [], 'accuracy': []}\n",
    "    for epoch in range(num_epochs):\n",
    "            for i, (images, labels) in enumerate(train_loader):\n",
    "                images = Variable(images).cuda()\n",
    "                labels = Variable(labels).squeeze(1).long().cuda()#.cpu()\n",
    "                # Forward + Backward + Optimize\n",
    "                optimizer.zero_grad()\n",
    "                outputs = model(images)\n",
    "                loss = criterion(outputs, labels)\n",
    "                loss.backward()\n",
    "                optimizer.step()\n",
    "                _, argmax = torch.max(outputs, 1)\n",
    "                accuracy_train = (labels == argmax.squeeze()).float().mean()*100\n",
    "                # Show progress\n",
    "                if (i+1) % 32 == 0:\n",
    "                    log = \" \".join([\n",
    "                      \"Epoch : %d/%d\" % (epoch+1, num_epochs),\n",
    "                      \"Iter : %d/%d\" % (i+1, len(train_dataset)//batch_size),\n",
    "                      \"Loss: %.4f\" % loss.item(),\n",
    "                      \"Accuracy: %.4f\" % accuracy_train])\n",
    "                    print('\\r{}'.format(log), end='')\n",
    "                    history['batch'].append(i)\n",
    "                    history['loss'].append(loss.item())\n",
    "                    history['accuracy'].append(accuracy_train.item())\n",
    "            print()\n",
    "    return model"
   ]
  },
  {
   "cell_type": "code",
   "execution_count": 10,
   "metadata": {},
   "outputs": [
    {
     "name": "stdout",
     "output_type": "stream",
     "text": [
      "----------------------------------------------------------------\n",
      "        Layer (type)               Output Shape         Param #\n",
      "================================================================\n",
      "            Conv2d-1           [-1, 50, 28, 28]             500\n",
      "              ReLU-2           [-1, 50, 28, 28]               0\n",
      "         MaxPool2d-3           [-1, 50, 14, 14]               0\n",
      "            Conv2d-4           [-1, 20, 14, 14]           9,020\n",
      "              ReLU-5           [-1, 20, 14, 14]               0\n",
      "         MaxPool2d-6             [-1, 20, 7, 7]               0\n",
      "           Flatten-7                  [-1, 980]               0\n",
      "            Linear-8                  [-1, 250]         245,250\n",
      "              ReLU-9                  [-1, 250]               0\n",
      "           Linear-10                  [-1, 121]          30,371\n",
      "================================================================\n",
      "Total params: 285,141\n",
      "Trainable params: 285,141\n",
      "Non-trainable params: 0\n",
      "----------------------------------------------------------------\n",
      "Input size (MB): 0.00\n",
      "Forward/backward pass size (MB): 0.75\n",
      "Params size (MB): 1.09\n",
      "Estimated Total Size (MB): 1.84\n",
      "----------------------------------------------------------------\n"
     ]
    }
   ],
   "source": [
    "cnn = CNN().cuda()\n",
    "summary(cnn, (1,28,28))\n",
    "#Hyperparameters\n",
    "learning_rate = 0.0005\n",
    "batch_size = 32"
   ]
  },
  {
   "cell_type": "code",
   "execution_count": 12,
   "metadata": {},
   "outputs": [
    {
     "name": "stdout",
     "output_type": "stream",
     "text": [
      "Epoch : 1/100 Iter : 736/756 Loss: 2.2086 Accuracy: 59.3750\n",
      "Epoch : 2/100 Iter : 736/756 Loss: 3.0338 Accuracy: 18.7500\n",
      "Epoch : 3/100 Iter : 736/756 Loss: 2.0770 Accuracy: 37.5000\n",
      "Epoch : 4/100 Iter : 736/756 Loss: 1.3751 Accuracy: 59.3750\n",
      "Epoch : 5/100 Iter : 736/756 Loss: 1.7285 Accuracy: 59.3750\n",
      "Epoch : 6/100 Iter : 736/756 Loss: 2.2140 Accuracy: 40.6250\n",
      "Epoch : 7/100 Iter : 736/756 Loss: 1.2820 Accuracy: 71.8750\n",
      "Epoch : 8/100 Iter : 736/756 Loss: 1.5642 Accuracy: 56.2500\n",
      "Epoch : 9/100 Iter : 736/756 Loss: 2.6918 Accuracy: 46.8750\n",
      "Epoch : 10/100 Iter : 736/756 Loss: 1.8689 Accuracy: 40.6250\n",
      "Epoch : 11/100 Iter : 736/756 Loss: 1.6346 Accuracy: 53.1250\n",
      "Epoch : 12/100 Iter : 736/756 Loss: 1.0903 Accuracy: 59.3750\n",
      "Epoch : 13/100 Iter : 736/756 Loss: 1.4116 Accuracy: 50.0000\n",
      "Epoch : 14/100 Iter : 736/756 Loss: 1.9391 Accuracy: 50.0000\n",
      "Epoch : 15/100 Iter : 736/756 Loss: 1.3172 Accuracy: 68.7500\n",
      "Epoch : 16/100 Iter : 736/756 Loss: 1.5430 Accuracy: 56.2500\n",
      "Epoch : 17/100 Iter : 736/756 Loss: 1.0453 Accuracy: 62.5000\n",
      "Epoch : 18/100 Iter : 736/756 Loss: 1.3333 Accuracy: 59.3750\n",
      "Epoch : 19/100 Iter : 736/756 Loss: 0.8815 Accuracy: 78.1250\n",
      "Epoch : 20/100 Iter : 736/756 Loss: 1.2124 Accuracy: 68.7500\n",
      "Epoch : 21/100 Iter : 736/756 Loss: 0.8961 Accuracy: 71.8750\n",
      "Epoch : 22/100 Iter : 736/756 Loss: 2.0064 Accuracy: 50.0000\n",
      "Epoch : 23/100 Iter : 736/756 Loss: 1.0467 Accuracy: 65.6250\n",
      "Epoch : 24/100 Iter : 736/756 Loss: 1.0274 Accuracy: 65.6250\n",
      "Epoch : 25/100 Iter : 736/756 Loss: 0.7915 Accuracy: 71.8750\n",
      "Epoch : 26/100 Iter : 736/756 Loss: 0.6618 Accuracy: 84.3750\n",
      "Epoch : 27/100 Iter : 736/756 Loss: 0.7601 Accuracy: 78.1250\n",
      "Epoch : 28/100 Iter : 736/756 Loss: 1.2570 Accuracy: 59.3750\n",
      "Epoch : 29/100 Iter : 736/756 Loss: 1.4933 Accuracy: 71.8750\n",
      "Epoch : 30/100 Iter : 736/756 Loss: 0.5527 Accuracy: 78.1250\n",
      "Epoch : 31/100 Iter : 736/756 Loss: 0.8628 Accuracy: 68.7500\n",
      "Epoch : 32/100 Iter : 736/756 Loss: 0.8427 Accuracy: 71.8750\n",
      "Epoch : 33/100 Iter : 736/756 Loss: 1.0592 Accuracy: 68.7500\n",
      "Epoch : 34/100 Iter : 736/756 Loss: 0.5298 Accuracy: 78.1250\n",
      "Epoch : 35/100 Iter : 736/756 Loss: 0.3354 Accuracy: 90.6250\n",
      "Epoch : 36/100 Iter : 736/756 Loss: 0.9354 Accuracy: 68.7500\n",
      "Epoch : 37/100 Iter : 736/756 Loss: 0.5051 Accuracy: 87.5000\n",
      "Epoch : 38/100 Iter : 736/756 Loss: 0.5424 Accuracy: 75.0000\n",
      "Epoch : 39/100 Iter : 736/756 Loss: 0.7119 Accuracy: 81.2500\n",
      "Epoch : 40/100 Iter : 736/756 Loss: 0.8547 Accuracy: 75.0000\n",
      "Epoch : 41/100 Iter : 736/756 Loss: 0.8783 Accuracy: 75.0000\n",
      "Epoch : 42/100 Iter : 736/756 Loss: 0.5849 Accuracy: 71.8750\n",
      "Epoch : 43/100 Iter : 736/756 Loss: 0.6449 Accuracy: 84.3750\n",
      "Epoch : 44/100 Iter : 736/756 Loss: 0.6666 Accuracy: 84.3750\n",
      "Epoch : 45/100 Iter : 736/756 Loss: 0.3630 Accuracy: 87.5000\n",
      "Epoch : 46/100 Iter : 736/756 Loss: 0.5050 Accuracy: 90.6250\n",
      "Epoch : 47/100 Iter : 736/756 Loss: 0.3795 Accuracy: 90.6250\n",
      "Epoch : 48/100 Iter : 736/756 Loss: 0.9269 Accuracy: 62.5000\n",
      "Epoch : 49/100 Iter : 736/756 Loss: 0.5004 Accuracy: 81.2500\n",
      "Epoch : 50/100 Iter : 736/756 Loss: 0.4194 Accuracy: 87.5000\n",
      "Epoch : 51/100 Iter : 736/756 Loss: 0.3670 Accuracy: 84.3750\n",
      "Epoch : 52/100 Iter : 736/756 Loss: 0.3948 Accuracy: 87.5000\n",
      "Epoch : 53/100 Iter : 736/756 Loss: 0.3216 Accuracy: 84.3750\n",
      "Epoch : 54/100 Iter : 736/756 Loss: 0.6975 Accuracy: 75.0000\n",
      "Epoch : 55/100 Iter : 736/756 Loss: 0.3019 Accuracy: 90.6250\n",
      "Epoch : 56/100 Iter : 736/756 Loss: 0.5767 Accuracy: 87.50000\n",
      "Epoch : 57/100 Iter : 736/756 Loss: 0.2865 Accuracy: 93.7500\n",
      "Epoch : 58/100 Iter : 736/756 Loss: 0.3516 Accuracy: 90.6250\n",
      "Epoch : 59/100 Iter : 736/756 Loss: 0.4602 Accuracy: 78.12500\n",
      "Epoch : 60/100 Iter : 736/756 Loss: 0.5125 Accuracy: 81.25000\n",
      "Epoch : 61/100 Iter : 736/756 Loss: 0.4919 Accuracy: 90.6250\n",
      "Epoch : 62/100 Iter : 736/756 Loss: 0.2992 Accuracy: 90.6250\n",
      "Epoch : 63/100 Iter : 736/756 Loss: 0.1487 Accuracy: 93.7500\n",
      "Epoch : 64/100 Iter : 736/756 Loss: 0.2859 Accuracy: 93.75000\n",
      "Epoch : 65/100 Iter : 736/756 Loss: 0.5508 Accuracy: 78.12500\n",
      "Epoch : 66/100 Iter : 736/756 Loss: 0.6214 Accuracy: 84.37500\n",
      "Epoch : 67/100 Iter : 736/756 Loss: 0.3673 Accuracy: 93.7500\n",
      "Epoch : 68/100 Iter : 736/756 Loss: 0.1893 Accuracy: 93.7500\n",
      "Epoch : 69/100 Iter : 736/756 Loss: 0.3157 Accuracy: 90.62500\n",
      "Epoch : 70/100 Iter : 736/756 Loss: 0.1959 Accuracy: 93.75000\n",
      "Epoch : 71/100 Iter : 736/756 Loss: 0.2623 Accuracy: 90.62500\n",
      "Epoch : 72/100 Iter : 736/756 Loss: 0.2470 Accuracy: 93.75000\n",
      "Epoch : 73/100 Iter : 736/756 Loss: 0.2191 Accuracy: 90.6250\n",
      "Epoch : 74/100 Iter : 736/756 Loss: 0.0389 Accuracy: 100.0000\n",
      "Epoch : 75/100 Iter : 736/756 Loss: 0.2846 Accuracy: 90.62500\n",
      "Epoch : 76/100 Iter : 736/756 Loss: 0.4073 Accuracy: 84.3750\n",
      "Epoch : 77/100 Iter : 736/756 Loss: 0.2239 Accuracy: 90.62500\n",
      "Epoch : 78/100 Iter : 736/756 Loss: 0.1995 Accuracy: 96.8750\n",
      "Epoch : 79/100 Iter : 736/756 Loss: 0.5712 Accuracy: 84.37500\n",
      "Epoch : 80/100 Iter : 736/756 Loss: 0.1599 Accuracy: 93.75000\n",
      "Epoch : 81/100 Iter : 736/756 Loss: 0.1947 Accuracy: 93.75000\n",
      "Epoch : 82/100 Iter : 736/756 Loss: 0.2393 Accuracy: 90.62500\n",
      "Epoch : 83/100 Iter : 736/756 Loss: 0.3276 Accuracy: 90.62500\n",
      "Epoch : 84/100 Iter : 736/756 Loss: 0.5084 Accuracy: 84.37500\n",
      "Epoch : 85/100 Iter : 736/756 Loss: 0.3960 Accuracy: 84.37500\n",
      "Epoch : 86/100 Iter : 736/756 Loss: 0.1532 Accuracy: 96.87500\n",
      "Epoch : 87/100 Iter : 736/756 Loss: 0.3472 Accuracy: 84.37500\n",
      "Epoch : 88/100 Iter : 736/756 Loss: 0.1626 Accuracy: 93.75000\n",
      "Epoch : 89/100 Iter : 736/756 Loss: 0.3262 Accuracy: 90.62500\n",
      "Epoch : 90/100 Iter : 736/756 Loss: 0.0521 Accuracy: 100.0000\n",
      "Epoch : 91/100 Iter : 736/756 Loss: 0.1425 Accuracy: 90.62500\n",
      "Epoch : 92/100 Iter : 736/756 Loss: 0.1346 Accuracy: 96.87500\n",
      "Epoch : 93/100 Iter : 736/756 Loss: 0.2111 Accuracy: 90.62500\n",
      "Epoch : 94/100 Iter : 736/756 Loss: 0.1282 Accuracy: 96.87500\n",
      "Epoch : 95/100 Iter : 736/756 Loss: 0.1918 Accuracy: 93.75000\n",
      "Epoch : 96/100 Iter : 736/756 Loss: 0.0450 Accuracy: 100.0000\n",
      "Epoch : 97/100 Iter : 736/756 Loss: 0.0735 Accuracy: 96.87500\n",
      "Epoch : 98/100 Iter : 736/756 Loss: 0.2417 Accuracy: 90.62500\n",
      "Epoch : 99/100 Iter : 736/756 Loss: 0.0986 Accuracy: 93.75000\n",
      "Epoch : 100/100 Iter : 736/756 Loss: 0.1304 Accuracy: 96.87500\n",
      "CPU times: user 6min 5s, sys: 41.2 s, total: 6min 46s\n",
      "Wall time: 6min 48s\n"
     ]
    },
    {
     "data": {
      "text/plain": [
       "CNN(\n",
       "  (layer1): Sequential(\n",
       "    (0): Conv2d(1, 50, kernel_size=(3, 3), stride=(1, 1), padding=(1, 1))\n",
       "    (1): ReLU()\n",
       "    (2): MaxPool2d(kernel_size=2, stride=2, padding=0, dilation=1, ceil_mode=False)\n",
       "  )\n",
       "  (layer2): Sequential(\n",
       "    (0): Conv2d(50, 20, kernel_size=(3, 3), stride=(1, 1), padding=(1, 1))\n",
       "    (1): ReLU()\n",
       "    (2): MaxPool2d(kernel_size=2, stride=2, padding=0, dilation=1, ceil_mode=False)\n",
       "  )\n",
       "  (layer3): Sequential(\n",
       "    (0): Flatten()\n",
       "    (1): Linear(in_features=980, out_features=250, bias=True)\n",
       "    (2): ReLU()\n",
       "  )\n",
       "  (fc): Linear(in_features=250, out_features=121, bias=True)\n",
       ")"
      ]
     },
     "execution_count": 12,
     "metadata": {},
     "output_type": "execute_result"
    }
   ],
   "source": [
    "%%time\n",
    "cnn = train(cnn, num_epochs = 100)"
   ]
  },
  {
   "cell_type": "code",
   "execution_count": 26,
   "metadata": {},
   "outputs": [
    {
     "ename": "TypeError",
     "evalue": "batch must contain tensors, numbers, dicts or lists; found <class 'PIL.Image.Image'>",
     "output_type": "error",
     "traceback": [
      "\u001b[0;31m---------------------------------------------------------------------------\u001b[0m",
      "\u001b[0;31mTypeError\u001b[0m                                 Traceback (most recent call last)",
      "\u001b[0;32m<ipython-input-26-017d059f3f76>\u001b[0m in \u001b[0;36m<module>\u001b[0;34m\u001b[0m\n\u001b[1;32m      2\u001b[0m \u001b[0mcorrect\u001b[0m \u001b[0;34m=\u001b[0m \u001b[0;36m0\u001b[0m\u001b[0;34m\u001b[0m\u001b[0m\n\u001b[1;32m      3\u001b[0m \u001b[0mtotal\u001b[0m \u001b[0;34m=\u001b[0m \u001b[0;36m0\u001b[0m\u001b[0;34m\u001b[0m\u001b[0m\n\u001b[0;32m----> 4\u001b[0;31m \u001b[0;32mfor\u001b[0m \u001b[0mimages\u001b[0m\u001b[0;34m,\u001b[0m \u001b[0mlabels\u001b[0m \u001b[0;32min\u001b[0m \u001b[0mtest_loader\u001b[0m\u001b[0;34m:\u001b[0m\u001b[0;34m\u001b[0m\u001b[0m\n\u001b[0m\u001b[1;32m      5\u001b[0m     \u001b[0mimages\u001b[0m \u001b[0;34m=\u001b[0m \u001b[0mVariable\u001b[0m\u001b[0;34m(\u001b[0m\u001b[0mimages\u001b[0m\u001b[0;34m)\u001b[0m\u001b[0;34m\u001b[0m\u001b[0m\n\u001b[1;32m      6\u001b[0m     \u001b[0mlabels\u001b[0m\u001b[0;34m=\u001b[0m \u001b[0mlabels\u001b[0m\u001b[0;34m.\u001b[0m\u001b[0msqueeze\u001b[0m\u001b[0;34m(\u001b[0m\u001b[0;36m1\u001b[0m\u001b[0;34m)\u001b[0m\u001b[0;34m\u001b[0m\u001b[0m\n",
      "\u001b[0;32m~/anaconda3/envs/tensorflow/lib/python3.6/site-packages/torch/utils/data/dataloader.py\u001b[0m in \u001b[0;36m__next__\u001b[0;34m(self)\u001b[0m\n\u001b[1;32m    312\u001b[0m         \u001b[0;32mif\u001b[0m \u001b[0mself\u001b[0m\u001b[0;34m.\u001b[0m\u001b[0mnum_workers\u001b[0m \u001b[0;34m==\u001b[0m \u001b[0;36m0\u001b[0m\u001b[0;34m:\u001b[0m  \u001b[0;31m# same-process loading\u001b[0m\u001b[0;34m\u001b[0m\u001b[0m\n\u001b[1;32m    313\u001b[0m             \u001b[0mindices\u001b[0m \u001b[0;34m=\u001b[0m \u001b[0mnext\u001b[0m\u001b[0;34m(\u001b[0m\u001b[0mself\u001b[0m\u001b[0;34m.\u001b[0m\u001b[0msample_iter\u001b[0m\u001b[0;34m)\u001b[0m  \u001b[0;31m# may raise StopIteration\u001b[0m\u001b[0;34m\u001b[0m\u001b[0m\n\u001b[0;32m--> 314\u001b[0;31m             \u001b[0mbatch\u001b[0m \u001b[0;34m=\u001b[0m \u001b[0mself\u001b[0m\u001b[0;34m.\u001b[0m\u001b[0mcollate_fn\u001b[0m\u001b[0;34m(\u001b[0m\u001b[0;34m[\u001b[0m\u001b[0mself\u001b[0m\u001b[0;34m.\u001b[0m\u001b[0mdataset\u001b[0m\u001b[0;34m[\u001b[0m\u001b[0mi\u001b[0m\u001b[0;34m]\u001b[0m \u001b[0;32mfor\u001b[0m \u001b[0mi\u001b[0m \u001b[0;32min\u001b[0m \u001b[0mindices\u001b[0m\u001b[0;34m]\u001b[0m\u001b[0;34m)\u001b[0m\u001b[0;34m\u001b[0m\u001b[0m\n\u001b[0m\u001b[1;32m    315\u001b[0m             \u001b[0;32mif\u001b[0m \u001b[0mself\u001b[0m\u001b[0;34m.\u001b[0m\u001b[0mpin_memory\u001b[0m\u001b[0;34m:\u001b[0m\u001b[0;34m\u001b[0m\u001b[0m\n\u001b[1;32m    316\u001b[0m                 \u001b[0mbatch\u001b[0m \u001b[0;34m=\u001b[0m \u001b[0mpin_memory_batch\u001b[0m\u001b[0;34m(\u001b[0m\u001b[0mbatch\u001b[0m\u001b[0;34m)\u001b[0m\u001b[0;34m\u001b[0m\u001b[0m\n",
      "\u001b[0;32m~/anaconda3/envs/tensorflow/lib/python3.6/site-packages/torch/utils/data/dataloader.py\u001b[0m in \u001b[0;36mdefault_collate\u001b[0;34m(batch)\u001b[0m\n\u001b[1;32m    187\u001b[0m         \u001b[0;32mreturn\u001b[0m \u001b[0;34m[\u001b[0m\u001b[0mdefault_collate\u001b[0m\u001b[0;34m(\u001b[0m\u001b[0msamples\u001b[0m\u001b[0;34m)\u001b[0m \u001b[0;32mfor\u001b[0m \u001b[0msamples\u001b[0m \u001b[0;32min\u001b[0m \u001b[0mtransposed\u001b[0m\u001b[0;34m]\u001b[0m\u001b[0;34m\u001b[0m\u001b[0m\n\u001b[1;32m    188\u001b[0m \u001b[0;34m\u001b[0m\u001b[0m\n\u001b[0;32m--> 189\u001b[0;31m     \u001b[0;32mraise\u001b[0m \u001b[0mTypeError\u001b[0m\u001b[0;34m(\u001b[0m\u001b[0;34m(\u001b[0m\u001b[0merror_msg\u001b[0m\u001b[0;34m.\u001b[0m\u001b[0mformat\u001b[0m\u001b[0;34m(\u001b[0m\u001b[0mtype\u001b[0m\u001b[0;34m(\u001b[0m\u001b[0mbatch\u001b[0m\u001b[0;34m[\u001b[0m\u001b[0;36m0\u001b[0m\u001b[0;34m]\u001b[0m\u001b[0;34m)\u001b[0m\u001b[0;34m)\u001b[0m\u001b[0;34m)\u001b[0m\u001b[0;34m)\u001b[0m\u001b[0;34m\u001b[0m\u001b[0m\n\u001b[0m\u001b[1;32m    190\u001b[0m \u001b[0;34m\u001b[0m\u001b[0m\n\u001b[1;32m    191\u001b[0m \u001b[0;34m\u001b[0m\u001b[0m\n",
      "\u001b[0;31mTypeError\u001b[0m: batch must contain tensors, numbers, dicts or lists; found <class 'PIL.Image.Image'>"
     ]
    }
   ],
   "source": [
    "cnn.eval().cuda()\n",
    "correct = 0\n",
    "total = 0\n",
    "for images, labels in test_loader:\n",
    "    images = Variable(images)\n",
    "    labels= labels.squeeze(1)\n",
    "    outputs = cnn(images)\n",
    "    _, predicted = torch.max(outputs.data, 1)\n",
    "    total += labels.size(0)\n",
    "    correct += (predicted.float() == labels).sum()\n",
    "print('Test Accuracy of the model on the 60000 test images: %.4f %%' % (100*correct.item() / total))"
   ]
  }
 ],
 "metadata": {
  "kernelspec": {
   "display_name": "Tensorflow - GPU",
   "language": "python",
   "name": "tensorflow"
  },
  "language_info": {
   "codemirror_mode": {
    "name": "ipython",
    "version": 3
   },
   "file_extension": ".py",
   "mimetype": "text/x-python",
   "name": "python",
   "nbconvert_exporter": "python",
   "pygments_lexer": "ipython3",
   "version": "3.6.6"
  }
 },
 "nbformat": 4,
 "nbformat_minor": 2
}
