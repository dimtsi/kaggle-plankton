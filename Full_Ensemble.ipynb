{
 "cells": [
  {
   "cell_type": "code",
   "execution_count": 1,
   "metadata": {
    "scrolled": true
   },
   "outputs": [],
   "source": [
    "import numpy as np\n",
    "import math;\n",
    "import pickle\n",
    "import pandas as pd\n",
    "from collections import OrderedDict\n",
    "import importlib\n",
    "import time\n",
    "import timeit\n",
    "\n",
    "import torch\n",
    "import torch.nn\n",
    "import torch.nn as nn\n",
    "from torch.utils.data import Dataset, DataLoader,TensorDataset\n",
    "from torchvision.models.resnet import *\n",
    "from torch.autograd import Variable\n",
    "from torchvision import transforms\n",
    "\n",
    "import NNs\n",
    "from NNs import *\n",
    "importlib.reload(NNs)\n",
    "import math\n",
    "from NNs import ResNetDynamic, FeatureBoostedCNN\n",
    "\n",
    "import glob\n",
    "import cv2\n",
    "\n",
    "from torchsummary import summary\n",
    "from Preprocessing import *\n",
    "from Preprocessing import ListsTrainDataset, ListsTestDataset"
   ]
  },
  {
   "cell_type": "code",
   "execution_count": 2,
   "metadata": {},
   "outputs": [
    {
     "name": "stdout",
     "output_type": "stream",
     "text": [
      "['/home/dimtsi/Dropbox/UvA/1st Semester/Applied Machine Learning/Project', '/home/dimtsi/anaconda3/envs/torch/lib/python37.zip', '/home/dimtsi/anaconda3/envs/torch/lib/python3.7', '/home/dimtsi/anaconda3/envs/torch/lib/python3.7/lib-dynload', '', '/home/dimtsi/.local/lib/python3.7/site-packages', '/home/dimtsi/anaconda3/envs/torch/lib/python3.7/site-packages', '/home/dimtsi/anaconda3/envs/torch/lib/python3.7/site-packages/IPython/extensions', '/home/dimtsi/.ipython']\n"
     ]
    }
   ],
   "source": [
    "import sys\n",
    "print(sys.path)"
   ]
  },
  {
   "cell_type": "markdown",
   "metadata": {},
   "source": [
    "## LOAD DATA"
   ]
  },
  {
   "cell_type": "code",
   "execution_count": 3,
   "metadata": {},
   "outputs": [],
   "source": [
    "original_train_images = pickle.load(open(\"pkl/extraclassified_padded64.pkl\", \"rb\"))\n",
    "# train_images = train_images[:1000]\n",
    "original_labels = pickle.load(open(\"pkl/train_labels.pkl\", \"rb\"))\n",
    "kaggle_test_images = pickle.load(open(\"pkl/test_padded64.pkl\", \"rb\"))\n",
    "kaggle_test_filenames = pickle.load(open(\"pkl/test_filenames.pkl\", \"rb\"))"
   ]
  },
  {
   "cell_type": "markdown",
   "metadata": {},
   "source": [
    "## Load handcrafted features"
   ]
  },
  {
   "cell_type": "code",
   "execution_count": 4,
   "metadata": {},
   "outputs": [],
   "source": [
    "original_haralick = pickle.load(open(\"features/extraclassified/train_haralick.pkl\", \"rb\"))\n",
    "original_moments = pickle.load(open(\"features/extraclassified/train_moments.pkl\", \"rb\"))\n",
    "original_sizes = pickle.load(open(\"features/extraclassified/train_sizes.pkl\", \"rb\"))\n",
    "\n",
    "kaggle_test_haralick = pickle.load(open(\"features/extraclassified/test_haralick.pkl\", \"rb\"))\n",
    "kaggle_test_moments = pickle.load(open(\"features/extraclassified/test_moments.pkl\", \"rb\"))\n",
    "kaggle_test_sizes = pickle.load(open(\"features/extraclassified/test_sizes.pkl\", \"rb\"))\n",
    "\n",
    "train_handcrafted_features = np.concatenate([original_haralick, original_moments,  original_sizes], axis =1)\n",
    "kaggle_test_handcrafted_features = np.concatenate([kaggle_test_haralick, kaggle_test_moments,  kaggle_test_sizes], axis =1)"
   ]
  },
  {
   "cell_type": "markdown",
   "metadata": {},
   "source": [
    "## Split to train test mine"
   ]
  },
  {
   "cell_type": "code",
   "execution_count": 61,
   "metadata": {},
   "outputs": [],
   "source": [
    "test_set_mine_indexes = pickle.load(open(\"pkl/test_set_mine_indexes_extraclassified.pkl\", \"rb\"))\n",
    "\n",
    "train_images = [i for j, i in enumerate(original_train_images) if j not in test_set_mine_indexes]\n",
    "train_labels = [i for j, i in enumerate(original_labels) if j not in test_set_mine_indexes]\n",
    "train_handcrafted = [i for j, i in enumerate(train_handcrafted_features) if j not in test_set_mine_indexes]\n",
    "\n",
    "#\n",
    "test_mine_images = [i for j, i in enumerate(original_train_images) if j in test_set_mine_indexes]\n",
    "test_mine_labels = [i for j, i in enumerate(original_labels) if j in test_set_mine_indexes]\n",
    "test_mine_handcrafted = [i for j, i in enumerate(train_handcrafted_features) if j in test_set_mine_indexes]"
   ]
  },
  {
   "cell_type": "code",
   "execution_count": 56,
   "metadata": {},
   "outputs": [],
   "source": [
    "X_train_cnn, y_train_cnn = train_images, train_labels\n",
    "X_val_cnn, y_val_cnn = test_mine_images, test_mine_labels"
   ]
  },
  {
   "cell_type": "markdown",
   "metadata": {},
   "source": [
    "## CNN"
   ]
  },
  {
   "cell_type": "code",
   "execution_count": 44,
   "metadata": {},
   "outputs": [],
   "source": [
    "pretrained = resnet50(pretrained = True)\n",
    "cnn = ResNetDynamic(pretrained.block, pretrained.layers, num_layers = 2, pretrained_nn = None)\n",
    "#\n",
    "cnn_dict = torch.load('models/extraclassified/trained_model90.pt', map_location={\"cuda:1\": \"cuda:0\", \"cuda:2\": \"cuda:0\"})['state_dict']\n",
    "cnn.load_state_dict(cnn_dict)\n",
    "cnn = cnn.eval().cuda()\n",
    "del(pretrained)\n",
    "feature_extractor_cnn = nn.Sequential(*list(cnn.children())[:-2]).eval().cuda()"
   ]
  },
  {
   "cell_type": "code",
   "execution_count": 46,
   "metadata": {},
   "outputs": [],
   "source": [
    "mean_norm_test, std_norm_test = calc_means_stds(train_images)\n",
    "\n",
    "def get_cnn_features(feature_extractor, model, x):\n",
    "    features = ...\n",
    "    mean_norm_test, std_norm_test = calc_means_stds(train_images)\n",
    "\n",
    "    test_transforms = transforms. Compose([\n",
    "        transforms.Grayscale(),\n",
    "        transforms.ToTensor(),\n",
    "        transforms.Normalize(mean=[mean_norm_test],\n",
    "                    std =[std_norm_test])\n",
    "    ])\n",
    "    \n",
    "    total_features = torch.Tensor().float().cpu()\n",
    "    total_predicted = torch.Tensor().long()\n",
    "    total_probabilities = torch.Tensor().float()  \n",
    "    \n",
    "    cnn_dataset = ListsTestDataset(x, transform = test_transforms)\n",
    "    cnn_loader = torch.utils.data.DataLoader(cnn_dataset, batch_size = 32, shuffle = False)\n",
    "\n",
    "    predictions = []\n",
    "    for i, images in enumerate(cnn_loader):\n",
    "        images = Variable(images, requires_grad=False).cuda()\n",
    "        outputs = model(images).cuda()\n",
    "        _, predicted = torch.max(outputs.data, 1)\n",
    "        features = feature_extractor(images)\n",
    "        \n",
    "        total_features = torch.cat((total_features, features.detach().cpu()))\n",
    "        total_predicted = torch.cat((total_predicted, predicted.cpu().long()))\n",
    "        total_probabilities = torch.cat((total_probabilities,(torch.nn.Softmax()(outputs)).detach().cpu()))\n",
    "\n",
    "    return (total_features.numpy(), total_predicted.numpy(), total_probabilities.numpy())"
   ]
  },
  {
   "cell_type": "code",
   "execution_count": 57,
   "metadata": {},
   "outputs": [
    {
     "name": "stderr",
     "output_type": "stream",
     "text": [
      "/home/dimtsi/anaconda3/envs/torch/lib/python3.7/site-packages/ipykernel_launcher.py:30: UserWarning: Implicit dimension choice for softmax has been deprecated. Change the call to include dim=X as an argument.\n"
     ]
    }
   ],
   "source": [
    "cnn_train_features, cnn_train_predictions, cnn_train_probabilities = get_cnn_features(feature_extractor_cnn, cnn, X_train_cnn)\n",
    "cnn_val_features, cnn_val_predictions, cnn_val_probabilities = get_cnn_features(feature_extractor_cnn, cnn, X_val_cnn)\n",
    "cnn_kaggle_features, cnn_kaggle_predictions, cnn_kaggle_probabilities = get_cnn_features(feature_extractor_cnn, cnn, kaggle_test_images)"
   ]
  },
  {
   "cell_type": "markdown",
   "metadata": {},
   "source": [
    "## Scale and Preprocess for Ensemble"
   ]
  },
  {
   "cell_type": "code",
   "execution_count": 67,
   "metadata": {},
   "outputs": [],
   "source": [
    "from sklearn.preprocessing import StandardScaler\n",
    "scaler = StandardScaler()\n",
    "scaled_handcrafted_train = scaler.fit_transform(train_handcrafted)\n",
    "scaled_handcrafted_val = scaler.fit_transform(test_mine_handcrafted)\n",
    "scaled_handcrafted_kaggle = scaler.fit_transform(kaggle_test_handcrafted_features)\n",
    "scaled_cnn_train_features = scaler.fit_transform(cnn_train_features)\n",
    "scaled_cnn_val_features = scaler.fit_transform(cnn_val_features)\n",
    "scaled_cnn_kaggle_features = scaler.fit_transform(cnn_kaggle_features)"
   ]
  },
  {
   "cell_type": "markdown",
   "metadata": {},
   "source": [
    "### Setup Features DF"
   ]
  },
  {
   "cell_type": "code",
   "execution_count": 77,
   "metadata": {},
   "outputs": [
    {
     "data": {
      "text/plain": [
       "551"
      ]
     },
     "execution_count": 77,
     "metadata": {},
     "output_type": "execute_result"
    }
   ],
   "source": [
    "feature_names = []\n",
    "\n",
    "for i in range(original_haralick.shape[1]):\n",
    "    feature_names.append(\"haralick\"+str(i))\n",
    "for i in range(original_moments.shape[1]):\n",
    "    feature_names.append(\"moments\"+str(i))\n",
    "for i in range(original_sizes.shape[1]):\n",
    "    feature_names.append(\"sizes\"+str(i))\n",
    "for i in range(scaled_cnn_train_features.shape[1]):\n",
    "    feature_names.append(\"deep\"+str(i))   \n",
    "len(handcrafted_names)"
   ]
  },
  {
   "cell_type": "code",
   "execution_count": 80,
   "metadata": {},
   "outputs": [
    {
     "data": {
      "text/html": [
       "<div>\n",
       "<style scoped>\n",
       "    .dataframe tbody tr th:only-of-type {\n",
       "        vertical-align: middle;\n",
       "    }\n",
       "\n",
       "    .dataframe tbody tr th {\n",
       "        vertical-align: top;\n",
       "    }\n",
       "\n",
       "    .dataframe thead th {\n",
       "        text-align: right;\n",
       "    }\n",
       "</style>\n",
       "<table border=\"1\" class=\"dataframe\">\n",
       "  <thead>\n",
       "    <tr style=\"text-align: right;\">\n",
       "      <th></th>\n",
       "      <th>haralick0</th>\n",
       "      <th>haralick1</th>\n",
       "      <th>haralick2</th>\n",
       "      <th>haralick3</th>\n",
       "      <th>haralick4</th>\n",
       "      <th>haralick5</th>\n",
       "      <th>haralick6</th>\n",
       "      <th>haralick7</th>\n",
       "      <th>haralick8</th>\n",
       "      <th>haralick9</th>\n",
       "      <th>...</th>\n",
       "      <th>deep502</th>\n",
       "      <th>deep503</th>\n",
       "      <th>deep504</th>\n",
       "      <th>deep505</th>\n",
       "      <th>deep506</th>\n",
       "      <th>deep507</th>\n",
       "      <th>deep508</th>\n",
       "      <th>deep509</th>\n",
       "      <th>deep510</th>\n",
       "      <th>deep511</th>\n",
       "    </tr>\n",
       "  </thead>\n",
       "  <tbody>\n",
       "    <tr>\n",
       "      <th>0</th>\n",
       "      <td>0.451856</td>\n",
       "      <td>-0.231419</td>\n",
       "      <td>0.502691</td>\n",
       "      <td>-0.481117</td>\n",
       "      <td>0.387366</td>\n",
       "      <td>0.462307</td>\n",
       "      <td>-0.465115</td>\n",
       "      <td>-0.391775</td>\n",
       "      <td>-0.424662</td>\n",
       "      <td>0.436325</td>\n",
       "      <td>...</td>\n",
       "      <td>-0.411653</td>\n",
       "      <td>-0.359564</td>\n",
       "      <td>3.070508</td>\n",
       "      <td>-0.613161</td>\n",
       "      <td>-0.332969</td>\n",
       "      <td>-0.277463</td>\n",
       "      <td>-0.635314</td>\n",
       "      <td>-0.062498</td>\n",
       "      <td>-0.742805</td>\n",
       "      <td>-0.556487</td>\n",
       "    </tr>\n",
       "    <tr>\n",
       "      <th>1</th>\n",
       "      <td>-0.133810</td>\n",
       "      <td>-0.411046</td>\n",
       "      <td>1.080848</td>\n",
       "      <td>-0.594465</td>\n",
       "      <td>-0.030692</td>\n",
       "      <td>0.276956</td>\n",
       "      <td>-0.552396</td>\n",
       "      <td>0.143724</td>\n",
       "      <td>0.056350</td>\n",
       "      <td>-0.139571</td>\n",
       "      <td>...</td>\n",
       "      <td>1.769049</td>\n",
       "      <td>-0.664688</td>\n",
       "      <td>0.797521</td>\n",
       "      <td>-0.735451</td>\n",
       "      <td>-0.462577</td>\n",
       "      <td>-0.495096</td>\n",
       "      <td>0.845502</td>\n",
       "      <td>-0.642879</td>\n",
       "      <td>1.320392</td>\n",
       "      <td>-0.693464</td>\n",
       "    </tr>\n",
       "    <tr>\n",
       "      <th>2</th>\n",
       "      <td>0.318293</td>\n",
       "      <td>-0.187910</td>\n",
       "      <td>0.556161</td>\n",
       "      <td>-0.305631</td>\n",
       "      <td>0.218710</td>\n",
       "      <td>0.127789</td>\n",
       "      <td>-0.288176</td>\n",
       "      <td>-0.184745</td>\n",
       "      <td>-0.285997</td>\n",
       "      <td>0.248271</td>\n",
       "      <td>...</td>\n",
       "      <td>-0.367620</td>\n",
       "      <td>-0.664688</td>\n",
       "      <td>0.758128</td>\n",
       "      <td>-0.502803</td>\n",
       "      <td>-0.491951</td>\n",
       "      <td>-0.628677</td>\n",
       "      <td>-0.513375</td>\n",
       "      <td>-0.609936</td>\n",
       "      <td>-0.130464</td>\n",
       "      <td>-0.666112</td>\n",
       "    </tr>\n",
       "    <tr>\n",
       "      <th>3</th>\n",
       "      <td>-0.843213</td>\n",
       "      <td>-0.099349</td>\n",
       "      <td>0.885158</td>\n",
       "      <td>0.678521</td>\n",
       "      <td>-0.476688</td>\n",
       "      <td>-0.556088</td>\n",
       "      <td>0.731822</td>\n",
       "      <td>0.416865</td>\n",
       "      <td>0.301075</td>\n",
       "      <td>-0.804225</td>\n",
       "      <td>...</td>\n",
       "      <td>-0.406037</td>\n",
       "      <td>-0.664688</td>\n",
       "      <td>3.178635</td>\n",
       "      <td>0.890270</td>\n",
       "      <td>-0.491951</td>\n",
       "      <td>-0.628677</td>\n",
       "      <td>-0.218238</td>\n",
       "      <td>-0.642879</td>\n",
       "      <td>-0.394223</td>\n",
       "      <td>-0.717080</td>\n",
       "    </tr>\n",
       "    <tr>\n",
       "      <th>4</th>\n",
       "      <td>0.062575</td>\n",
       "      <td>-0.269070</td>\n",
       "      <td>0.263624</td>\n",
       "      <td>-0.719381</td>\n",
       "      <td>0.014959</td>\n",
       "      <td>0.530318</td>\n",
       "      <td>-0.709168</td>\n",
       "      <td>-0.042254</td>\n",
       "      <td>-0.096993</td>\n",
       "      <td>0.006578</td>\n",
       "      <td>...</td>\n",
       "      <td>2.360212</td>\n",
       "      <td>-0.664688</td>\n",
       "      <td>0.361874</td>\n",
       "      <td>-0.703543</td>\n",
       "      <td>-0.330049</td>\n",
       "      <td>0.137321</td>\n",
       "      <td>0.805877</td>\n",
       "      <td>-0.607581</td>\n",
       "      <td>2.206954</td>\n",
       "      <td>-0.651078</td>\n",
       "    </tr>\n",
       "  </tbody>\n",
       "</table>\n",
       "<p>5 rows × 551 columns</p>\n",
       "</div>"
      ],
      "text/plain": [
       "   haralick0  haralick1  haralick2  haralick3  haralick4  haralick5  \\\n",
       "0   0.451856  -0.231419   0.502691  -0.481117   0.387366   0.462307   \n",
       "1  -0.133810  -0.411046   1.080848  -0.594465  -0.030692   0.276956   \n",
       "2   0.318293  -0.187910   0.556161  -0.305631   0.218710   0.127789   \n",
       "3  -0.843213  -0.099349   0.885158   0.678521  -0.476688  -0.556088   \n",
       "4   0.062575  -0.269070   0.263624  -0.719381   0.014959   0.530318   \n",
       "\n",
       "   haralick6  haralick7  haralick8  haralick9    ...      deep502   deep503  \\\n",
       "0  -0.465115  -0.391775  -0.424662   0.436325    ...    -0.411653 -0.359564   \n",
       "1  -0.552396   0.143724   0.056350  -0.139571    ...     1.769049 -0.664688   \n",
       "2  -0.288176  -0.184745  -0.285997   0.248271    ...    -0.367620 -0.664688   \n",
       "3   0.731822   0.416865   0.301075  -0.804225    ...    -0.406037 -0.664688   \n",
       "4  -0.709168  -0.042254  -0.096993   0.006578    ...     2.360212 -0.664688   \n",
       "\n",
       "    deep504   deep505   deep506   deep507   deep508   deep509   deep510  \\\n",
       "0  3.070508 -0.613161 -0.332969 -0.277463 -0.635314 -0.062498 -0.742805   \n",
       "1  0.797521 -0.735451 -0.462577 -0.495096  0.845502 -0.642879  1.320392   \n",
       "2  0.758128 -0.502803 -0.491951 -0.628677 -0.513375 -0.609936 -0.130464   \n",
       "3  3.178635  0.890270 -0.491951 -0.628677 -0.218238 -0.642879 -0.394223   \n",
       "4  0.361874 -0.703543 -0.330049  0.137321  0.805877 -0.607581  2.206954   \n",
       "\n",
       "    deep511  \n",
       "0 -0.556487  \n",
       "1 -0.693464  \n",
       "2 -0.666112  \n",
       "3 -0.717080  \n",
       "4 -0.651078  \n",
       "\n",
       "[5 rows x 551 columns]"
      ]
     },
     "execution_count": 80,
     "metadata": {},
     "output_type": "execute_result"
    }
   ],
   "source": [
    "##concat handcrafted and deep features\n",
    "\n",
    "NP_FEATURES_TRAIN = np.concatenate([scaled_handcrafted_train, scaled_cnn_train_features], axis = 1)\n",
    "NP_FEATURES_VAL = np.concatenate([scaled_handcrafted_val, scaled_cnn_val_features], axis = 1)\n",
    "NP_FEATURES_KAGGLE = np.concatenate([scaled_handcrafted_kaggle, scaled_cnn_kaggle_features], axis = 1)\n",
    "\n",
    "y_train = train_labels\n",
    "y_test = test_mine_labels\n",
    "\n",
    "X_train = pd.DataFrame(NP_FEATURES_TRAIN, columns = feature_names)\n",
    "y_test = pd.DataFrame(NP_FEATURES_VAL, columns = feature_names)\n",
    "\n",
    "X_train.head()"
   ]
  },
  {
   "cell_type": "code",
   "execution_count": null,
   "metadata": {},
   "outputs": [],
   "source": []
  },
  {
   "cell_type": "code",
   "execution_count": null,
   "metadata": {},
   "outputs": [],
   "source": [
    "train_dataset.features"
   ]
  },
  {
   "cell_type": "code",
   "execution_count": null,
   "metadata": {},
   "outputs": [],
   "source": [
    "train_and_validate_with_features(ensemble_nn, train_loader, val_loader, num_epochs=100)"
   ]
  },
  {
   "cell_type": "code",
   "execution_count": null,
   "metadata": {},
   "outputs": [],
   "source": [
    "handcrafted_val.shape"
   ]
  }
 ],
 "metadata": {
  "kernelspec": {
   "display_name": "torch",
   "language": "python",
   "name": "torch"
  },
  "language_info": {
   "codemirror_mode": {
    "name": "ipython",
    "version": 3
   },
   "file_extension": ".py",
   "mimetype": "text/x-python",
   "name": "python",
   "nbconvert_exporter": "python",
   "pygments_lexer": "ipython3",
   "version": "3.7.1"
  }
 },
 "nbformat": 4,
 "nbformat_minor": 2
}
